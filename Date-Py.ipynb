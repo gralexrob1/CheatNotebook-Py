{
 "cells": [
  {
   "cell_type": "code",
   "execution_count": 3,
   "id": "07be341c",
   "metadata": {},
   "outputs": [],
   "source": [
    "import datetime as dt\n",
    "import calendar as cal\n",
    "from pytz import timezone as tz\n",
    "from dateutil import parser"
   ]
  },
  {
   "cell_type": "markdown",
   "id": "70290f24",
   "metadata": {},
   "source": [
    "#### current date"
   ]
  },
  {
   "cell_type": "code",
   "execution_count": 4,
   "id": "1682559e",
   "metadata": {},
   "outputs": [],
   "source": [
    "current_date   = dt.date.today()\n",
    "current_date   = dt.datetime.now()\n",
    "current_date   = dt.datetime.today()\n",
    "current_year   = dt.datetime.today().year\n",
    "current_month  = dt.datetime.today().month\n",
    "current_day    = dt.datetime.today().day\n",
    "current_hour   = dt.datetime.today().hour\n",
    "current_minute = dt.datetime.today().minute\n",
    "current_second = dt.datetime.today().second"
   ]
  },
  {
   "cell_type": "markdown",
   "id": "08c87e88",
   "metadata": {},
   "source": [
    "#### day name"
   ]
  },
  {
   "cell_type": "code",
   "execution_count": 28,
   "id": "0949717b",
   "metadata": {},
   "outputs": [],
   "source": [
    "day_name = cal.day_name[day_number]"
   ]
  },
  {
   "cell_type": "markdown",
   "id": "d2c33ff5",
   "metadata": {},
   "source": [
    "#### week day number"
   ]
  },
  {
   "cell_type": "code",
   "execution_count": 26,
   "id": "c740322b",
   "metadata": {},
   "outputs": [],
   "source": [
    "week_day_number = dt.datetime.weekday(current_date) # monday is 0\n",
    "week_day_number = dt.datetime.isoweekday(current_date) # monday is 1"
   ]
  },
  {
   "cell_type": "markdown",
   "id": "2debeb37",
   "metadata": {},
   "source": [
    "#### year day number"
   ]
  },
  {
   "cell_type": "code",
   "execution_count": 8,
   "id": "6568b035",
   "metadata": {},
   "outputs": [],
   "source": [
    "year_day_number = current_date.toordinal() - dt.date(current_date.year, 1, 1).toordinal() + 1"
   ]
  },
  {
   "cell_type": "markdown",
   "id": "34e81c7c",
   "metadata": {},
   "source": [
    "#### conversion"
   ]
  },
  {
   "cell_type": "code",
   "execution_count": 69,
   "id": "649710ae",
   "metadata": {},
   "outputs": [],
   "source": [
    "current_date\n",
    "current_date_iso = current_date.isoformat()"
   ]
  },
  {
   "cell_type": "code",
   "execution_count": 67,
   "id": "fb9f7033",
   "metadata": {},
   "outputs": [],
   "source": [
    "# '%Y-%m-%d %H:%M:%S'\n",
    "# '%Y/%m/%d %H:%M:%S.%f'\n",
    "# '%Y-%m-%d'\n",
    "# '%d'\n",
    "\n",
    "oStr = current_date.strftime('%Y-%m-%d')\n",
    "oDatetime = dt.datetime.strptime(oStr, '%Y-%m-%d')\n",
    "\n",
    "oDate = dt.date(int(oStr.split('-')[0]),\n",
    "                int(oStr.split('-')[1]),\n",
    "                int(oStr.split('-')[2]))"
   ]
  },
  {
   "cell_type": "code",
   "execution_count": 70,
   "id": "fc40ca1a",
   "metadata": {},
   "outputs": [
    {
     "data": {
      "text/plain": [
       "datetime.datetime(2020, 12, 21, 13, 1)"
      ]
     },
     "execution_count": 70,
     "metadata": {},
     "output_type": "execute_result"
    }
   ],
   "source": [
    "parser.parse(\"Dec 21 2020  1:01PM\")"
   ]
  },
  {
   "cell_type": "code",
   "execution_count": 68,
   "id": "f7cace7c",
   "metadata": {},
   "outputs": [],
   "source": [
    "current_date_ts = dt.datetime.timestamp(current_date)"
   ]
  },
  {
   "cell_type": "markdown",
   "id": "9d6f2a62",
   "metadata": {},
   "source": [
    "#### timezone"
   ]
  },
  {
   "cell_type": "code",
   "execution_count": 71,
   "id": "5ec0a8e6",
   "metadata": {},
   "outputs": [
    {
     "data": {
      "text/plain": [
       "datetime.datetime(2023, 2, 22, 15, 3, 36, 493169, tzinfo=<UTC>)"
      ]
     },
     "execution_count": 71,
     "metadata": {},
     "output_type": "execute_result"
    }
   ],
   "source": [
    "dt.datetime.now(tz('UTC'))"
   ]
  }
 ],
 "metadata": {
  "kernelspec": {
   "display_name": "Python 3 (ipykernel)",
   "language": "python",
   "name": "python3"
  },
  "language_info": {
   "codemirror_mode": {
    "name": "ipython",
    "version": 3
   },
   "file_extension": ".py",
   "mimetype": "text/x-python",
   "name": "python",
   "nbconvert_exporter": "python",
   "pygments_lexer": "ipython3",
   "version": "3.9.7"
  }
 },
 "nbformat": 4,
 "nbformat_minor": 5
}
